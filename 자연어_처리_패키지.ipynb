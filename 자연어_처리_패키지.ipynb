{
  "nbformat": 4,
  "nbformat_minor": 0,
  "metadata": {
    "colab": {
      "name": "자연어_처리_패키지.ipynb",
      "provenance": [],
      "collapsed_sections": [],
      "include_colab_link": true
    },
    "kernelspec": {
      "display_name": "Python 3",
      "language": "python",
      "name": "python3"
    },
    "language_info": {
      "codemirror_mode": {
        "name": "ipython",
        "version": 3
      },
      "file_extension": ".py",
      "mimetype": "text/x-python",
      "name": "python",
      "nbconvert_exporter": "python",
      "pygments_lexer": "ipython3",
      "version": "3.7.6"
    }
  },
  "cells": [
    {
      "cell_type": "markdown",
      "metadata": {
        "id": "view-in-github",
        "colab_type": "text"
      },
      "source": [
        "<a href=\"https://colab.research.google.com/github/rivkms/2021-School-Record-AI-Material/blob/main/%EC%9E%90%EC%97%B0%EC%96%B4_%EC%B2%98%EB%A6%AC_%ED%8C%A8%ED%82%A4%EC%A7%80.ipynb\" target=\"_parent\"><img src=\"https://colab.research.google.com/assets/colab-badge.svg\" alt=\"Open In Colab\"/></a>"
      ]
    },
    {
      "cell_type": "markdown",
      "metadata": {
        "id": "28s7KeB2h_yw"
      },
      "source": [
        "#데이터 다운로드"
      ]
    },
    {
      "cell_type": "code",
      "metadata": {
        "id": "CDrHTSbJo0y0"
      },
      "source": [
        "import matplotlib.pylab as plt"
      ],
      "execution_count": 1,
      "outputs": []
    },
    {
      "cell_type": "code",
      "metadata": {
        "id": "JN3ENJolLuVn",
        "outputId": "f1f51c54-af6c-4230-f42a-a0af6a4bca81",
        "colab": {
          "base_uri": "https://localhost:8080/"
        }
      },
      "source": [
        "# 말뭉치(자연어 분석작업을 위한 데이터 샘플)다운\n",
        "import nltk\n",
        "nltk.download(\"book\", quiet=True)\n",
        "from nltk.book import *"
      ],
      "execution_count": 2,
      "outputs": [
        {
          "output_type": "stream",
          "text": [
            "*** Introductory Examples for the NLTK Book ***\n",
            "Loading text1, ..., text9 and sent1, ..., sent9\n",
            "Type the name of the text or sentence to view it.\n",
            "Type: 'texts()' or 'sents()' to list the materials.\n",
            "text1: Moby Dick by Herman Melville 1851\n",
            "text2: Sense and Sensibility by Jane Austen 1811\n",
            "text3: The Book of Genesis\n",
            "text4: Inaugural Address Corpus\n",
            "text5: Chat Corpus\n",
            "text6: Monty Python and the Holy Grail\n",
            "text7: Wall Street Journal\n",
            "text8: Personals Corpus\n",
            "text9: The Man Who Was Thursday by G . K . Chesterton 1908\n"
          ],
          "name": "stdout"
        }
      ]
    },
    {
      "cell_type": "code",
      "metadata": {
        "colab": {
          "base_uri": "https://localhost:8080/"
        },
        "id": "XN6WEwUqL5mF",
        "outputId": "77a5610d-7236-4e40-8627-834d6645e169"
      },
      "source": [
        "nltk.corpus.gutenberg.fileids()"
      ],
      "execution_count": 3,
      "outputs": [
        {
          "output_type": "execute_result",
          "data": {
            "text/plain": [
              "['austen-emma.txt',\n",
              " 'austen-persuasion.txt',\n",
              " 'austen-sense.txt',\n",
              " 'bible-kjv.txt',\n",
              " 'blake-poems.txt',\n",
              " 'bryant-stories.txt',\n",
              " 'burgess-busterbrown.txt',\n",
              " 'carroll-alice.txt',\n",
              " 'chesterton-ball.txt',\n",
              " 'chesterton-brown.txt',\n",
              " 'chesterton-thursday.txt',\n",
              " 'edgeworth-parents.txt',\n",
              " 'melville-moby_dick.txt',\n",
              " 'milton-paradise.txt',\n",
              " 'shakespeare-caesar.txt',\n",
              " 'shakespeare-hamlet.txt',\n",
              " 'shakespeare-macbeth.txt',\n",
              " 'whitman-leaves.txt']"
            ]
          },
          "metadata": {
            "tags": []
          },
          "execution_count": 3
        }
      ]
    },
    {
      "cell_type": "markdown",
      "metadata": {
        "id": "nDzasCJQw3Gl"
      },
      "source": [
        "#데이터 확인\n",
        "\n"
      ]
    },
    {
      "cell_type": "code",
      "metadata": {
        "colab": {
          "base_uri": "https://localhost:8080/"
        },
        "id": "dbrg1DmiMAS_",
        "outputId": "c1a4f8c4-4dd4-4b40-9f25-3679a215c1af"
      },
      "source": [
        "# 저작권이 말소된 작품인 제인 오스틴의 엠마 출력\n",
        "emma_raw = nltk.corpus.gutenberg.raw(\"austen-emma.txt\")\n",
        "print(emma_raw[:1302])"
      ],
      "execution_count": 11,
      "outputs": [
        {
          "output_type": "stream",
          "text": [
            "[Emma by Jane Austen 1816]\n",
            "\n",
            "VOLUME I\n",
            "\n",
            "CHAPTER I\n",
            "\n",
            "\n",
            "Emma Woodhouse, handsome, clever, and rich, with a comfortable home\n",
            "and happy disposition, seemed to unite some of the best blessings\n",
            "of existence; and had lived nearly twenty-one years in the world\n",
            "with very little to distress or vex her.\n",
            "\n",
            "She was the youngest of the two daughters of a most affectionate,\n",
            "indulgent father; and had, in consequence of her sister's marriage,\n",
            "been mistress of his house from a very early period.  Her mother\n",
            "had died too long ago for her to have more than an indistinct\n",
            "remembrance of her caresses; and her place had been supplied\n",
            "by an excellent woman as governess, who had fallen little short\n",
            "of a mother in affection.\n",
            "\n",
            "Sixteen years had Miss Taylor been in Mr. Woodhouse's family,\n",
            "less as a governess than a friend, very fond of both daughters,\n",
            "but particularly of Emma.  Between _them_ it was more the intimacy\n",
            "of sisters.  Even before Miss Taylor had ceased to hold the nominal\n",
            "office of governess, the mildness of her temper had hardly allowed\n",
            "her to impose any restraint; and the shadow of authority being\n",
            "now long passed away, they had been living together as friend and\n",
            "friend very mutually attached, and Emma doing just what she liked;\n",
            "highly esteeming Miss Taylor's judgment, but directed chiefly by\n",
            "her own.\n",
            "\n"
          ],
          "name": "stdout"
        }
      ]
    },
    {
      "cell_type": "markdown",
      "metadata": {
        "id": "IrXMm7TEz7uM"
      },
      "source": [
        "#토큰 생성"
      ]
    },
    {
      "cell_type": "markdown",
      "metadata": {
        "id": "VXWRflr05Uto"
      },
      "source": [
        " sent_tokenize: sentence tokenization function"
      ]
    },
    {
      "cell_type": "code",
      "metadata": {
        "colab": {
          "base_uri": "https://localhost:8080/"
        },
        "id": "sq_YhBngMGLj",
        "outputId": "f96747a7-8568-4912-d18c-ce7ce279cd8a"
      },
      "source": [
        "# 토큰(자연어 분석을 위해 문자열을 작은 단위로 나누는 것) 생성\n",
        "from nltk.tokenize import sent_tokenize\n",
        "print(sent_tokenize(emma_raw[:1000])[3])"
      ],
      "execution_count": 15,
      "outputs": [
        {
          "output_type": "stream",
          "text": [
            "Sixteen years had Miss Taylor been in Mr. Woodhouse's family,\n",
            "less as a governess than a friend, very fond of both daughters,\n",
            "but particularly of Emma.\n"
          ],
          "name": "stdout"
        }
      ]
    },
    {
      "cell_type": "markdown",
      "metadata": {
        "id": "nyIaZCS-9Eg8"
      },
      "source": [
        "word_tokenize( ) : word tokenization\n"
      ]
    },
    {
      "cell_type": "code",
      "metadata": {
        "colab": {
          "base_uri": "https://localhost:8080/"
        },
        "id": "to0ID8XVMb_G",
        "outputId": "bac5b2df-8243-4bc6-f05b-a73cb08abcb3"
      },
      "source": [
        "from nltk.tokenize import word_tokenize\n",
        "word_tokenize(emma_raw[50:100])"
      ],
      "execution_count": 13,
      "outputs": [
        {
          "output_type": "execute_result",
          "data": {
            "text/plain": [
              "['Emma',\n",
              " 'Woodhouse',\n",
              " ',',\n",
              " 'handsome',\n",
              " ',',\n",
              " 'clever',\n",
              " ',',\n",
              " 'and',\n",
              " 'rich',\n",
              " ',',\n",
              " 'with',\n",
              " 'a']"
            ]
          },
          "metadata": {
            "tags": []
          },
          "execution_count": 13
        }
      ]
    },
    {
      "cell_type": "code",
      "metadata": {
        "colab": {
          "base_uri": "https://localhost:8080/"
        },
        "id": "J69YDfdAMioq",
        "outputId": "f4d252f7-c634-4fe2-9e6c-ae7e71920112"
      },
      "source": [
        "from nltk.tokenize import RegexpTokenizer\n",
        "retokenize = RegexpTokenizer(\"[\\w]+\")\n",
        "retokenize.tokenize(emma_raw[50:100])"
      ],
      "execution_count": null,
      "outputs": [
        {
          "output_type": "execute_result",
          "data": {
            "text/plain": [
              "['Emma', 'Woodhouse', 'handsome', 'clever', 'and', 'rich', 'with', 'a']"
            ]
          },
          "metadata": {
            "tags": []
          },
          "execution_count": 37
        }
      ]
    },
    {
      "cell_type": "code",
      "metadata": {
        "colab": {
          "base_uri": "https://localhost:8080/"
        },
        "id": "n-s0GW1gNdmq",
        "outputId": "e87fe598-e8a5-4ba3-9108-33d3ff1f96b4"
      },
      "source": [
        "# 형태소(일정한 의미가 있는 가장 작은 말의 단위)분석\n",
        "# 어간추출(활용가능한 형태소의 기본형)\n",
        "from nltk.stem import PorterStemmer, LancasterStemmer\n",
        "\n",
        "st1 = PorterStemmer()\n",
        "st2 =  LancasterStemmer()\n",
        "\n",
        "words = [\"fly\", \"flies\", \"flying\", \"flew\", \"flown\"]\n",
        "\n",
        "print(\"Porter Stemmer   :\", [st1.stem(w) for w in words])\n",
        "print(\"Lancaster Stemmer:\", [st2.stem(w) for w in words])"
      ],
      "execution_count": null,
      "outputs": [
        {
          "output_type": "stream",
          "text": [
            "Porter Stemmer   : ['fli', 'fli', 'fli', 'flew', 'flown']\n",
            "Lancaster Stemmer: ['fly', 'fli', 'fly', 'flew', 'flown']\n"
          ],
          "name": "stdout"
        }
      ]
    },
    {
      "cell_type": "code",
      "metadata": {
        "colab": {
          "base_uri": "https://localhost:8080/"
        },
        "id": "jyAcnja3N7xk",
        "outputId": "abe1a252-0197-42e1-c6c8-02df2a97d813"
      },
      "source": [
        "# 원형복원(형태소를 원형으로 복원)\n",
        "from nltk.stem import WordNetLemmatizer\n",
        "\n",
        "lm = WordNetLemmatizer()\n",
        "\n",
        "[lm.lemmatize(w, pos=\"v\") for w in words]"
      ],
      "execution_count": null,
      "outputs": [
        {
          "output_type": "execute_result",
          "data": {
            "text/plain": [
              "['fly', 'fly', 'fly', 'fly', 'fly']"
            ]
          },
          "metadata": {
            "tags": []
          },
          "execution_count": 39
        }
      ]
    },
    {
      "cell_type": "code",
      "metadata": {
        "colab": {
          "base_uri": "https://localhost:8080/"
        },
        "id": "SGtSmIOzOmvv",
        "outputId": "3cb4402f-890e-42ad-93a3-f3f9e44bd017"
      },
      "source": [
        "# 품사부착\n",
        "# NNP: 단수 고유명사\n",
        "\n",
        "# VB: 동사\n",
        "\n",
        "# VBP: 동사 현재형\n",
        "\n",
        "# TO: to 전치사\n",
        "\n",
        "# NN: 명사(단수형 혹은 집합형)\n",
        "\n",
        "# DT: 관형사\n",
        "nltk.help.upenn_tagset(\"VB\")"
      ],
      "execution_count": null,
      "outputs": [
        {
          "output_type": "stream",
          "text": [
            "VB: verb, base form\n",
            "    ask assemble assess assign assume atone attention avoid bake balkanize\n",
            "    bank begin behold believe bend benefit bevel beware bless boil bomb\n",
            "    boost brace break bring broil brush build ...\n"
          ],
          "name": "stdout"
        }
      ]
    },
    {
      "cell_type": "code",
      "metadata": {
        "colab": {
          "base_uri": "https://localhost:8080/"
        },
        "id": "G9pdv1fTOzhj",
        "outputId": "ba1aec8d-a71c-45d1-becb-bd8f21d1d7cd"
      },
      "source": [
        "# 토큰에 분류된 품사를 부착하여 튜플로 출력\n",
        "from nltk.tag import pos_tag\n",
        "sentence = \"Emma refused to permit us to obtain the refuse permit\"\n",
        "tagged_list = pos_tag(word_tokenize(sentence))\n",
        "tagged_list"
      ],
      "execution_count": null,
      "outputs": [
        {
          "output_type": "execute_result",
          "data": {
            "text/plain": [
              "[('Emma', 'NNP'),\n",
              " ('refused', 'VBD'),\n",
              " ('to', 'TO'),\n",
              " ('permit', 'VB'),\n",
              " ('us', 'PRP'),\n",
              " ('to', 'TO'),\n",
              " ('obtain', 'VB'),\n",
              " ('the', 'DT'),\n",
              " ('refuse', 'NN'),\n",
              " ('permit', 'NN')]"
            ]
          },
          "metadata": {
            "tags": []
          },
          "execution_count": 41
        }
      ]
    },
    {
      "cell_type": "code",
      "metadata": {
        "colab": {
          "base_uri": "https://localhost:8080/"
        },
        "id": "QXBwU_FwPOfZ",
        "outputId": "0594bf50-fad8-4f2a-8e21-aceff1c45d05"
      },
      "source": [
        "# 명사인 토큰만 선택\n",
        "nouns_list = [t[0] for t in tagged_list if t[1] == \"NN\"]\n",
        "nouns_list"
      ],
      "execution_count": null,
      "outputs": [
        {
          "output_type": "execute_result",
          "data": {
            "text/plain": [
              "['refuse', 'permit']"
            ]
          },
          "metadata": {
            "tags": []
          },
          "execution_count": 42
        }
      ]
    },
    {
      "cell_type": "code",
      "metadata": {
        "colab": {
          "base_uri": "https://localhost:8080/"
        },
        "id": "pGkVcCxgPbaj",
        "outputId": "3ec473e4-dc78-40de-b06e-f5ff348f4b86"
      },
      "source": [
        "# 태그튜플 제거\n",
        "from nltk.tag import untag\n",
        "untag(tagged_list)"
      ],
      "execution_count": null,
      "outputs": [
        {
          "output_type": "execute_result",
          "data": {
            "text/plain": [
              "['Emma',\n",
              " 'refused',\n",
              " 'to',\n",
              " 'permit',\n",
              " 'us',\n",
              " 'to',\n",
              " 'obtain',\n",
              " 'the',\n",
              " 'refuse',\n",
              " 'permit']"
            ]
          },
          "metadata": {
            "tags": []
          },
          "execution_count": 43
        }
      ]
    },
    {
      "cell_type": "code",
      "metadata": {
        "colab": {
          "base_uri": "https://localhost:8080/"
        },
        "id": "0ZcA_rthPbnU",
        "outputId": "3cdf9001-d676-49eb-c76c-df6d55fa199f"
      },
      "source": [
        "# 같은 말이라도 품사가 다를 수 있기에 새로운 토큰생성하여 처리\n",
        "def tokenizer(doc):\n",
        "    return [\"/\".join(p) for p in tagged_list]\n",
        "\n",
        "tokenizer(sentence)"
      ],
      "execution_count": null,
      "outputs": [
        {
          "output_type": "execute_result",
          "data": {
            "text/plain": [
              "['Emma/NNP',\n",
              " 'refused/VBD',\n",
              " 'to/TO',\n",
              " 'permit/VB',\n",
              " 'us/PRP',\n",
              " 'to/TO',\n",
              " 'obtain/VB',\n",
              " 'the/DT',\n",
              " 'refuse/NN',\n",
              " 'permit/NN']"
            ]
          },
          "metadata": {
            "tags": []
          },
          "execution_count": 44
        }
      ]
    },
    {
      "cell_type": "code",
      "metadata": {
        "id": "jbNG4-ovPn6O"
      },
      "source": [
        "# 문서분석을 위한 패키지(nltk_Text) 가져오기\n",
        "from nltk import Text\n",
        "\n",
        "text = Text(retokenize.tokenize(emma_raw))"
      ],
      "execution_count": null,
      "outputs": []
    },
    {
      "cell_type": "code",
      "metadata": {
        "id": "20LAWlsOozcz"
      },
      "source": [
        ""
      ],
      "execution_count": null,
      "outputs": []
    },
    {
      "cell_type": "code",
      "metadata": {
        "colab": {
          "base_uri": "https://localhost:8080/",
          "height": 294
        },
        "id": "gHHJ-kOpP1Hp",
        "outputId": "a61c773a-e5e4-436f-b203-ad107a744edd"
      },
      "source": [
        "# 단어별 사용빈도 시각화\n",
        "text.plot(20)\n",
        "\n",
        "\n",
        "\n"
      ],
      "execution_count": null,
      "outputs": [
        {
          "output_type": "display_data",
          "data": {
            "image/png": "[encoded data removed]",
            "text/plain": [
              "<Figure size 432x288 with 1 Axes>"
            ]
          },
          "metadata": {
            "tags": [],
            "needs_background": "light"
          }
        }
      ]
    },
    {
      "cell_type": "code",
      "metadata": {
        "colab": {
          "base_uri": "https://localhost:8080/",
          "height": 295
        },
        "id": "MJaCl7vUQQsk",
        "outputId": "4f543656-a9de-451e-b023-e45e296c0aea"
      },
      "source": [
        "# 사용된 위치 시각화\n",
        "text.dispersion_plot([\"Emma\", \"Knightley\", \"Frank\", \"Jane\", \"Harriet\", \"Robert\"])"
      ],
      "execution_count": null,
      "outputs": [
        {
          "output_type": "display_data",
          "data": {
            "image/png": "[encoded data removed]",
            "text/plain": [
              "<Figure size 432x288 with 1 Axes>"
            ]
          },
          "metadata": {
            "tags": [],
            "needs_background": "light"
          }
        }
      ]
    },
    {
      "cell_type": "code",
      "metadata": {
        "colab": {
          "base_uri": "https://localhost:8080/",
          "height": 295
        },
        "id": "M3UOPIujQdkD",
        "outputId": "2acf6b97-4dba-4a87-bf29-9b5f80005fb2"
      },
      "source": [
        "# 등장인물의 언급 위치 시각화\n",
        "text.dispersion_plot([\"Emma\", \"Knightley\", \"Frank\", \"Jane\", \"Harriet\", \"Robert\"])"
      ],
      "execution_count": null,
      "outputs": [
        {
          "output_type": "display_data",
          "data": {
            "image/png": "[encoded data removed]",
            "text/plain": [
              "<Figure size 432x288 with 1 Axes>"
            ]
          },
          "metadata": {
            "tags": [],
            "needs_background": "light"
          }
        }
      ]
    },
    {
      "cell_type": "code",
      "metadata": {
        "colab": {
          "base_uri": "https://localhost:8080/"
        },
        "id": "RiYFqJxfQlHC",
        "outputId": "93aeeec3-874f-497a-e624-6b10a621afb0"
      },
      "source": [
        "# Emma가 등장한 부분 앞 뒤\n",
        "text.concordance(\"Emma\")"
      ],
      "execution_count": null,
      "outputs": [
        {
          "output_type": "stream",
          "text": [
            "Displaying 25 of 865 matches:\n",
            "                                     Emma by Jane Austen 1816 VOLUME I CHAPTER\n",
            "                                     Emma Woodhouse handsome clever and rich w\n",
            "f both daughters but particularly of Emma Between _them_ it was more the intim\n",
            "nd friend very mutually attached and Emma doing just what she liked highly est\n",
            " by her own The real evils indeed of Emma s situation were the power of having\n",
            "ding day of this beloved friend that Emma first sat in mournful thought of any\n",
            "going only half a mile from them but Emma was aware that great must be the dif\n",
            "a day It was a melancholy change and Emma could not but sigh over it and wish \n",
            "ll the rest of her life at Hartfield Emma smiled and chatted as cheerfully as \n",
            "l be able to tell her how we all are Emma spared no exertions to maintain this\n",
            "or I have a great regard for you and Emma but when it comes to the question of\n",
            "a fanciful troublesome creature said Emma playfully That is what you have in y\n",
            "e few people who could see faults in Emma Woodhouse and the only one who ever \n",
            "is was not particularly agreeable to Emma herself she knew it would be so much\n",
            " being thought perfect by every body Emma knows I never flatter her said Mr Kn\n",
            " that she must be a gainer Well said Emma willing to let it pass you want to h\n",
            " were sure of meeting every day Dear Emma bears every thing so well said her f\n",
            "l_ miss her more than she thinks for Emma turned away her head divided between\n",
            "ars and smiles It is impossible that Emma should not miss such a companion sai\n",
            "rgotten one matter of joy to me said Emma and a very considerable one that I m\n",
            "lf than good to them by interference Emma never thinks of herself if she can d\n",
            "ch better thing Invite him to dinner Emma and help him to the best of the fish\n",
            " and could not think without pain of Emma s losing a single pleasure or suffer\n",
            "nt of her companionableness but dear Emma was of no feeble character she was m\n",
            "ent was so just and so apparent that Emma well as she knew her father was some\n"
          ],
          "name": "stdout"
        }
      ]
    },
    {
      "cell_type": "code",
      "metadata": {
        "colab": {
          "base_uri": "https://localhost:8080/"
        },
        "id": "0U18xWf-Qv0r",
        "outputId": "2268d316-a8d5-4486-ab62-46061eba0a8f"
      },
      "source": [
        "# 비슷한 문맥에서 Emma대신 활용된 빈도가 높은 단어\n",
        "text.similar(\"Emma\")"
      ],
      "execution_count": null,
      "outputs": [
        {
          "output_type": "stream",
          "text": [
            "she it he i harriet you her jane him that me and all they them herself\n",
            "there but be isabella\n"
          ],
          "name": "stdout"
        }
      ]
    },
    {
      "cell_type": "code",
      "metadata": {
        "colab": {
          "base_uri": "https://localhost:8080/"
        },
        "id": "iIK4phmURLcF",
        "outputId": "66851b3d-83c8-4f83-c372-3f16db69a9ed"
      },
      "source": [
        "# 두 단어의 공통 문맥\n",
        "text.common_contexts([\"Emma\", \"she\"])"
      ],
      "execution_count": null,
      "outputs": [
        {
          "output_type": "stream",
          "text": [
            "but_was and_could that_should said_and which_could whom_knew\n",
            "which_particularly and_imagined that_could said_i that_began\n",
            "and_thought do_was but_could than_had said_but manner_was this_could\n",
            "as_saw possible_could\n"
          ],
          "name": "stdout"
        }
      ]
    },
    {
      "cell_type": "code",
      "metadata": {
        "colab": {
          "base_uri": "https://localhost:8080/"
        },
        "id": "vF-NhBU6RSDu",
        "outputId": "259d23a3-d72c-48cf-eea2-8244839b9f78"
      },
      "source": [
        "# 토큰의 활용빈도정보\n",
        "fd = text.vocab()\n",
        "type(fd)"
      ],
      "execution_count": null,
      "outputs": [
        {
          "output_type": "execute_result",
          "data": {
            "text/plain": [
              "nltk.probability.FreqDist"
            ]
          },
          "metadata": {
            "tags": []
          },
          "execution_count": 24
        }
      ]
    },
    {
      "cell_type": "code",
      "metadata": {
        "id": "vs6xU7PuRWzS"
      },
      "source": [
        "from nltk import FreqDist\n",
        "\n",
        "stopwords = [\"Mr.\", \"Mrs.\", \"Miss\", \"Mr\", \"Mrs\", \"Dear\"]\n",
        "emma_tokens = pos_tag(retokenize.tokenize(emma_raw))\n",
        "names_list = [t[0] for t in emma_tokens if t[1] == \"NNP\" and t[0] not in stopwords]\n",
        "fd_names = FreqDist(names_list)"
      ],
      "execution_count": null,
      "outputs": []
    },
    {
      "cell_type": "code",
      "metadata": {
        "colab": {
          "base_uri": "https://localhost:8080/"
        },
        "id": "6YpMahgKRkWD",
        "outputId": "126ba0db-f90f-439a-c82e-706bb60cf928"
      },
      "source": [
        "fd_names.N(), fd_names[\"Emma\"], fd_names.freq(\"Emma\")"
      ],
      "execution_count": null,
      "outputs": [
        {
          "output_type": "execute_result",
          "data": {
            "text/plain": [
              "(7863, 830, 0.10555767518758744)"
            ]
          },
          "metadata": {
            "tags": []
          },
          "execution_count": 26
        }
      ]
    },
    {
      "cell_type": "code",
      "metadata": {
        "colab": {
          "base_uri": "https://localhost:8080/"
        },
        "id": "drCTIUPfRlhT",
        "outputId": "cb88d3dc-5a3d-473e-8c6f-d5320472a853"
      },
      "source": [
        "fd_names.most_common(5)"
      ],
      "execution_count": null,
      "outputs": [
        {
          "output_type": "execute_result",
          "data": {
            "text/plain": [
              "[('Emma', 830),\n",
              " ('Harriet', 491),\n",
              " ('Weston', 439),\n",
              " ('Knightley', 389),\n",
              " ('Elton', 385)]"
            ]
          },
          "metadata": {
            "tags": []
          },
          "execution_count": 27
        }
      ]
    },
    {
      "cell_type": "code",
      "metadata": {
        "colab": {
          "base_uri": "https://localhost:8080/",
          "height": 232
        },
        "id": "n4qXo0YkRvsP",
        "outputId": "ca20a57c-53b9-433d-931c-12ec8964c23f"
      },
      "source": [
        "from wordcloud import WordCloud\n",
        "wc = WordCloud(width=1000,height=600,background_color=\"white\",random_state=0)\n",
        "plt.imshow(wc.generate_from_frequencies(fd_names))\n",
        "plt.axis(\"off\")\n",
        "plt.show()"
      ],
      "execution_count": null,
      "outputs": [
        {
          "output_type": "display_data",
          "data": {
            "image/png": "[encoded data removed]",
            "text/plain": [
              "<Figure size 432x288 with 1 Axes>"
            ]
          },
          "metadata": {
            "tags": [],
            "needs_background": "light"
          }
        }
      ]
    }
  ]
}